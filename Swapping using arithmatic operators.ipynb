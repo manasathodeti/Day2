{
 "cells": [
  {
   "cell_type": "code",
   "execution_count": null,
   "id": "54a5d4d8-7e03-4adb-949f-ed4f01a9b0aa",
   "metadata": {},
   "outputs": [],
   "source": [
    "#swapping using arithmatic operators\n",
    "a=int(input(\"Enter the value of a:\"))\n",
    "b=int(input(\"Enter the value of b:\"))\n",
    "print(\"Before swapping a=\",a,\"b=\",b)\n",
    "a=a+b\n",
    "b=a-b\n",
    "a=a-b\n",
    "print(\"after swapping a= \",a,\"b= \",b)"
   ]
  }
 ],
 "metadata": {
  "kernelspec": {
   "display_name": "Python 3 (ipykernel)",
   "language": "python",
   "name": "python3"
  },
  "language_info": {
   "codemirror_mode": {
    "name": "ipython",
    "version": 3
   },
   "file_extension": ".py",
   "mimetype": "text/x-python",
   "name": "python",
   "nbconvert_exporter": "python",
   "pygments_lexer": "ipython3",
   "version": "3.12.7"
  }
 },
 "nbformat": 4,
 "nbformat_minor": 5
}
